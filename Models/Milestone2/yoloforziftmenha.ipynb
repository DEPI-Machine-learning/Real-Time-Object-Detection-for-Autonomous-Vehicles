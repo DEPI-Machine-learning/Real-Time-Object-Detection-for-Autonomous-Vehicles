{
 "cells": [
  {
   "cell_type": "code",
   "execution_count": null,
   "metadata": {
    "execution": {
     "iopub.execute_input": "2025-05-15T11:16:23.157997Z",
     "iopub.status.busy": "2025-05-15T11:16:23.157721Z",
     "iopub.status.idle": "2025-05-15T11:16:26.562011Z",
     "shell.execute_reply": "2025-05-15T11:16:26.560918Z",
     "shell.execute_reply.started": "2025-05-15T11:16:23.157974Z"
    },
    "trusted": true
   },
   "outputs": [],
   "source": [
    "!pip install ultralytics opencv-python numpy tqdm"
   ]
  },
  {
   "cell_type": "code",
   "execution_count": null,
   "metadata": {},
   "outputs": [],
   "source": [
    "import os\n",
    "import shutil\n",
    "import numpy as np\n",
    "from tqdm import tqdm\n",
    "import time\n",
    "import cv2\n",
    "from ultralytics import YOLO\n",
    "from ultralytics import YOLO\n"
   ]
  },
  {
   "cell_type": "code",
   "execution_count": null,
   "metadata": {
    "execution": {
     "iopub.execute_input": "2025-05-15T11:16:26.563952Z",
     "iopub.status.busy": "2025-05-15T11:16:26.563652Z",
     "iopub.status.idle": "2025-05-15T11:16:26.570828Z",
     "shell.execute_reply": "2025-05-15T11:16:26.569985Z",
     "shell.execute_reply.started": "2025-05-15T11:16:26.563928Z"
    },
    "trusted": true
   },
   "outputs": [],
   "source": [
    "\n",
    "kitti_base_path = \"/kaggle/input/kitti-dataset\"\n",
    "\n",
    "kitti_images_dir = os.path.join(kitti_base_path, \"data_object_image_2/training/image_2\")\n",
    "kitti_labels_dir = os.path.join(kitti_base_path, \"data_object_label_2/training/label_2\")\n",
    "yolo_dataset_path = \"yolo_dataset\"\n",
    "yolo_images_train = os.path.join(yolo_dataset_path, \"images/train\")\n",
    "yolo_images_val = os.path.join(yolo_dataset_path, \"images/val\")\n",
    "yolo_labels_train = os.path.join(yolo_dataset_path, \"labels/train\")\n",
    "yolo_labels_val = os.path.join(yolo_dataset_path, \"labels/val\")\n",
    "os.makedirs(yolo_images_train, exist_ok=True)\n",
    "os.makedirs(yolo_images_val, exist_ok=True)\n",
    "os.makedirs(yolo_labels_train, exist_ok=True)\n",
    "os.makedirs(yolo_labels_val, exist_ok=True)\n",
    "\n",
    "print(\"Directories set up correctly.\")\n"
   ]
  },
  {
   "cell_type": "code",
   "execution_count": null,
   "metadata": {
    "execution": {
     "iopub.execute_input": "2025-05-15T11:16:26.572756Z",
     "iopub.status.busy": "2025-05-15T11:16:26.572205Z",
     "iopub.status.idle": "2025-05-15T11:17:10.666019Z",
     "shell.execute_reply": "2025-05-15T11:17:10.665207Z",
     "shell.execute_reply.started": "2025-05-15T11:16:26.572722Z"
    },
    "trusted": true
   },
   "outputs": [],
   "source": [
    "\n",
    "kitti_classes = [\"Car\", \"Pedestrian\", \"Cyclist\", \"Truck\", \"Van\",\"Misc\"]\n",
    "def convert_kitti_to_yolo(label_file, split=\"train\"):\n",
    "    with open(os.path.join(kitti_labels_dir, label_file), \"r\") as f:\n",
    "        lines = f.readlines()\n",
    "    \n",
    "    new_lines = []\n",
    "    for line in lines:\n",
    "        parts = line.strip().split()\n",
    "        obj_class = parts[0]\n",
    "        if obj_class in kitti_classes:\n",
    "            x_min, y_min, x_max, y_max = map(float, parts[4:8])\n",
    "            width = 1242 \n",
    "            height = 375\n",
    "\n",
    "            x_center = ((x_min + x_max) / 2) / width\n",
    "            y_center = ((y_min + y_max) / 2) / height\n",
    "            bbox_width = (x_max - x_min) / width\n",
    "            bbox_height = (y_max - y_min) / height\n",
    "\n",
    "            yolo_class = kitti_classes.index(obj_class)\n",
    "            new_lines.append(f\"{yolo_class} {x_center} {y_center} {bbox_width} {bbox_height}\\n\")\n",
    "\n",
    "    yolo_label_path = yolo_labels_train if split == \"train\" else yolo_labels_val\n",
    "    with open(os.path.join(yolo_label_path, label_file), \"w\") as f:\n",
    "        f.writelines(new_lines)\n",
    "\n",
    "image_files = sorted(os.listdir(kitti_images_dir))\n",
    "split_idx = int(0.8 * len(image_files))\n",
    "\n",
    "train_files = image_files[:split_idx]\n",
    "val_files = image_files[split_idx:]\n",
    "\n",
    "for file in tqdm(train_files, desc=\"Processing Training Data\"):\n",
    "    convert_kitti_to_yolo(file.replace('.png', '.txt'), \"train\")\n",
    "    shutil.copy(os.path.join(kitti_images_dir, file), os.path.join(yolo_images_train, file))\n",
    "\n",
    "for file in tqdm(val_files, desc=\"Processing Validation Data\"):\n",
    "    convert_kitti_to_yolo(file.replace('.png', '.txt'), \"val\")\n",
    "    shutil.copy(os.path.join(kitti_images_dir, file), os.path.join(yolo_images_val, file))\n",
    "\n",
    "print(\"KITTI annotations converted and dataset split.\")\n"
   ]
  },
  {
   "cell_type": "code",
   "execution_count": null,
   "metadata": {
    "execution": {
     "iopub.execute_input": "2025-05-15T11:17:10.667259Z",
     "iopub.status.busy": "2025-05-15T11:17:10.666971Z",
     "iopub.status.idle": "2025-05-15T11:17:10.672746Z",
     "shell.execute_reply": "2025-05-15T11:17:10.672011Z",
     "shell.execute_reply.started": "2025-05-15T11:17:10.667234Z"
    },
    "trusted": true
   },
   "outputs": [],
   "source": [
    "dataset_yaml = f\"\"\"\\\n",
    "path: /kaggle/working/yolo_dataset\n",
    "train: images/train\n",
    "val: images/val\n",
    "names:\n",
    "  0: Car\n",
    "  1: Pedestrian\n",
    "  2: Cyclist\n",
    "  3: Truck\n",
    "  4: Van\n",
    "  5: Misc\n",
    "\"\"\"\n",
    "\n",
    "with open(\"/kaggle/working/dataset.yaml\", \"w\") as f:\n",
    "    f.write(dataset_yaml)\n",
    "\n",
    "print(\"Updated dataset.yaml file created\")"
   ]
  },
  {
   "cell_type": "code",
   "execution_count": null,
   "metadata": {
    "execution": {
     "iopub.execute_input": "2025-05-15T11:17:10.673997Z",
     "iopub.status.busy": "2025-05-15T11:17:10.673697Z",
     "iopub.status.idle": "2025-05-15T11:56:32.154558Z",
     "shell.execute_reply": "2025-05-15T11:56:32.153603Z",
     "shell.execute_reply.started": "2025-05-15T11:17:10.673971Z"
    },
    "trusted": true
   },
   "outputs": [],
   "source": [
    "model = YOLO(\"yolov8n.pt\")  \n",
    "model.train(data=\"dataset.yaml\", epochs=25, imgsz=640)"
   ]
  },
  {
   "cell_type": "code",
   "execution_count": null,
   "metadata": {
    "execution": {
     "iopub.execute_input": "2025-05-15T11:56:32.156137Z",
     "iopub.status.busy": "2025-05-15T11:56:32.155760Z",
     "iopub.status.idle": "2025-05-15T11:56:32.635664Z",
     "shell.execute_reply": "2025-05-15T11:56:32.634843Z",
     "shell.execute_reply.started": "2025-05-15T11:56:32.156104Z"
    },
    "trusted": true
   },
   "outputs": [],
   "source": [
    "test_image = \"/kaggle/input/kitti-dataset/data_object_image_2/testing/image_2/000217.png\" \n",
    "\n",
    "results = model(test_image)\n",
    "results[0].show()"
   ]
  },
  {
   "cell_type": "code",
   "execution_count": null,
   "metadata": {
    "execution": {
     "iopub.execute_input": "2025-05-15T11:56:32.637379Z",
     "iopub.status.busy": "2025-05-15T11:56:32.637147Z",
     "iopub.status.idle": "2025-05-15T11:56:47.884165Z",
     "shell.execute_reply": "2025-05-15T11:56:47.883374Z",
     "shell.execute_reply.started": "2025-05-15T11:56:32.637359Z"
    },
    "trusted": true
   },
   "outputs": [],
   "source": [
    "metrics = model.val()\n",
    "mAP_50 = metrics.box.map50   \n",
    "mAP_50_95 = metrics.box.map  \n",
    "\n",
    "print(f\"Model Accuracy (mAP@50): {mAP_50:.2f}\")\n",
    "print(f\"Model Accuracy (mAP@50-95): {mAP_50_95:.2f}\")"
   ]
  },
  {
   "cell_type": "code",
   "execution_count": null,
   "metadata": {
    "execution": {
     "iopub.execute_input": "2025-05-15T12:10:38.657382Z",
     "iopub.status.busy": "2025-05-15T12:10:38.657043Z",
     "iopub.status.idle": "2025-05-15T12:10:38.907533Z",
     "shell.execute_reply": "2025-05-15T12:10:38.906633Z",
     "shell.execute_reply.started": "2025-05-15T12:10:38.657360Z"
    },
    "trusted": true
   },
   "outputs": [],
   "source": [
    "\n",
    "model = YOLO(\"/kaggle/input/yolobest/pytorch/default/1/best.pt\", task=\"detect\")\n",
    "results = model.predict(source=\"/kaggle/input/kitti-dataset/data_object_image_2/testing/image_2/000217.png\", imgsz=640)\n",
    "res = results[0]\n",
    "res.show()\n"
   ]
  },
  {
   "cell_type": "code",
   "execution_count": null,
   "metadata": {
    "execution": {
     "iopub.execute_input": "2025-05-15T12:20:27.024586Z",
     "iopub.status.busy": "2025-05-15T12:20:27.024207Z",
     "iopub.status.idle": "2025-05-15T12:20:27.813422Z",
     "shell.execute_reply": "2025-05-15T12:20:27.812575Z",
     "shell.execute_reply.started": "2025-05-15T12:20:27.024557Z"
    },
    "trusted": true
   },
   "outputs": [],
   "source": [
    "model = YOLO(\"/kaggle/input/yolobest/pytorch/default/1/best.pt\", task=\"detect\")\n",
    "img = cv2.imread(\"/kaggle/input/kitti-dataset/data_object_image_2/testing/image_2/000217.png\")\n",
    "for _ in range(5):\n",
    "    _ = model.predict(source=img, imgsz=640, device=0)\n",
    "N = 50 \n",
    "start = time.time()\n",
    "for _ in range(N):\n",
    "    _ = model.predict(source=img, imgsz=640, device=0)\n",
    "end = time.time()\n",
    "total_time = end - start\n",
    "fps = N / total_time\n",
    "print(f\"Average inference time per image: {total_time/N*1000:.1f} ms\")\n",
    "print(f\"=> Approximate FPS: {fps:.1f}\")\n"
   ]
  }
 ],
 "metadata": {
  "kaggle": {
   "accelerator": "nvidiaTeslaT4",
   "dataSources": [
    {
     "datasetId": 976194,
     "sourceId": 1650695,
     "sourceType": "datasetVersion"
    },
    {
     "datasetId": 4634921,
     "sourceId": 7895501,
     "sourceType": "datasetVersion"
    },
    {
     "isSourceIdPinned": true,
     "modelId": 344948,
     "modelInstanceId": 324156,
     "sourceId": 394118,
     "sourceType": "modelInstanceVersion"
    }
   ],
   "dockerImageVersionId": 30919,
   "isGpuEnabled": true,
   "isInternetEnabled": true,
   "language": "python",
   "sourceType": "notebook"
  },
  "kernelspec": {
   "display_name": "Python 3",
   "language": "python",
   "name": "python3"
  },
  "language_info": {
   "codemirror_mode": {
    "name": "ipython",
    "version": 3
   },
   "file_extension": ".py",
   "mimetype": "text/x-python",
   "name": "python",
   "nbconvert_exporter": "python",
   "pygments_lexer": "ipython3",
   "version": "3.10.12"
  }
 },
 "nbformat": 4,
 "nbformat_minor": 4
}
